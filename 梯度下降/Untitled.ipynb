{
 "cells": [
  {
   "cell_type": "code",
   "execution_count": 1,
   "metadata": {},
   "outputs": [
    {
     "data": {
      "application/vnd.jupyter.widget-view+json": {
       "model_id": "3569290b4f624bf5a192b4405b716b1c",
       "version_major": 2,
       "version_minor": 0
      },
      "text/plain": [
       "interactive(children=(FloatSlider(value=0.2, description='lr', max=2.0, step=0.01), IntSlider(value=20, descri…"
      ]
     },
     "metadata": {},
     "output_type": "display_data"
    }
   ],
   "source": [
    "import numpy as np\n",
    "import matplotlib.pyplot as plt\n",
    "from ipywidgets import *         #引进用于调用“变量控制滚动条”的包\n",
    "from mpl_toolkits import mplot3d #用于绘制3D图形\n",
    "\n",
    "#梯度函数的导数\n",
    "def gradJ1(x,y):\n",
    "    return x / (np.sqrt(x ** 2 + y ** 2)) * np.cos(np.sqrt(x ** 2 + y ** 2))\n",
    "def gradJ2(x,y):\n",
    "    return y  / (np.sqrt(x ** 2 + y ** 2)) * np.cos(np.sqrt(x ** 2 + y ** 2))\n",
    " \n",
    "#梯度函数\n",
    "def f(x, y):\n",
    "    return  np.sin(np.sqrt(x ** 2 + y ** 2))\n",
    "\n",
    "def train(lr,epoch,theta1,theta2,up,dirc):\n",
    "    #下面的三个数组，由于记录迭代过程的路径\n",
    "    t1 = [theta1]    \n",
    "    t2 = [theta2]    \n",
    "    z=[f(theta1,theta2)]\n",
    "    for i in range(epoch):\n",
    "        gradient = gradJ1(theta1,theta2)\n",
    "        theta1 = theta1 - lr*gradient\n",
    "        t1.append(theta1)\n",
    "        gradient = gradJ2(theta1,theta2)\n",
    "        theta2 = theta2 - lr*gradient\n",
    "        t2.append(theta2)\n",
    "        z.append(f(theta1,theta2))\n",
    "        \n",
    "    plt.figure(figsize=(12,12))     #设置画布大小\n",
    "    x = np.linspace(-6,6,100)\n",
    "    y = np.linspace(-6,6,100)\n",
    "    X, Y = np.meshgrid(x, y)\n",
    "    Z = f(X,Y)    \n",
    "    ax = plt.axes(projection='3d')\n",
    "    ax.contour3D(X, Y, Z, 50, cmap='binary')#等高线图\n",
    "    ax.scatter3D(t1, t2, z, c='r',marker = 'o')#散点图\n",
    "    #调整观察角度和方位角。这里将俯仰角设为45度，把方位角调整为45度\n",
    "    ax.view_init(up, dirc)\n",
    "\n",
    "#可以随时调节，查看效果 (最小值，最大值，步长) 具体关于ipywidgets包详细怎么用可自行搜索，若只是想简单使用，模仿下面的方式使用即可\n",
    "@interact(lr=(0, 2, 0.01),epoch=(1,100,1),init_theta1=(-6,6,0.1),init_theta2=(-6,6,0.1),up=(-180,180,1),dirc=(-180,180,1),continuous_update=False)\n",
    "#lr为学习率（步长） epoch为迭代次数   init_theta为初始参数的设置 up,dirc用于控制视角\n",
    "def visualize_gradient_descent(lr=0.2,epoch=20,init_theta1=2,init_theta2=0,up=45,dirc=45):\n",
    "    train(lr,epoch,init_theta1,init_theta2,up,dirc)\n",
    "\n",
    "\n"
   ]
  },
  {
   "cell_type": "code",
   "execution_count": null,
   "metadata": {},
   "outputs": [],
   "source": []
  }
 ],
 "metadata": {
  "kernelspec": {
   "display_name": "Python 3",
   "language": "python",
   "name": "python3"
  },
  "language_info": {
   "codemirror_mode": {
    "name": "ipython",
    "version": 3
   },
   "file_extension": ".py",
   "mimetype": "text/x-python",
   "name": "python",
   "nbconvert_exporter": "python",
   "pygments_lexer": "ipython3",
   "version": "3.6.5"
  }
 },
 "nbformat": 4,
 "nbformat_minor": 4
}
