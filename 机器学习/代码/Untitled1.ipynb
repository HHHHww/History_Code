{
 "cells": [
  {
   "cell_type": "code",
   "execution_count": 34,
   "metadata": {},
   "outputs": [],
   "source": [
    "import tensorflow as tf\n",
    "tf.compat.v1.disable_eager_execution()\n",
    "from tensorflow import keras"
   ]
  },
  {
   "cell_type": "code",
   "execution_count": 32,
   "metadata": {},
   "outputs": [],
   "source": [
    "def tensorflow_demo():\n",
    "    '''\n",
    "    TensorFlow的基本结构\n",
    "    '''\n",
    "#     原生python加法运算\n",
    "    a=2\n",
    "    b=3\n",
    "    c=a+b\n",
    "    print('普通加法运算的结果:\\n',c)\n",
    "    \n",
    "#     TensorFlow实现加法运算\n",
    "    a_t=tf.constant(2)\n",
    "    b_t=tf.constant(3)\n",
    "    c_t=a_t+b_t\n",
    "    print('TensorFlow加法运算的结果:\\n',c_t)\n",
    "    \n",
    "#     开启会话\n",
    "    with tf.compat.v1.Session() as sess:\n",
    "        c_t_value=sess.run(c_t)\n",
    "        print('c_t_value:\\n',c_t_value)\n",
    "    return None\n",
    "\n"
   ]
  },
  {
   "cell_type": "code",
   "execution_count": 107,
   "metadata": {},
   "outputs": [],
   "source": [
    "def graph_demo():\n",
    "    '''\n",
    "    图的演示\n",
    "    '''\n",
    "    \n",
    "#     TensorFlow实现加法运算\n",
    "    a_t=tf.constant(2,name='a_t')\n",
    "    b_t=tf.constant(3,name='b_t')\n",
    "    c_t=tf.add(a_t,b_t,name='c_t')\n",
    "    print('a_t:\\n',a_t)\n",
    "    print('b_t:\\n',b_t)\n",
    "    print('c_t:\\n',c_t)\n",
    "    \n",
    "#     查看默认图\n",
    "#     方法1：调用方法\n",
    "#     default_g=tf.keras\n",
    "#     print('default_g:\\n',default_g)\n",
    "    \n",
    "#     方法2：查看属性\n",
    "    print('a_t的图属性:\\n',a_t.graph)\n",
    "    print('c_t的图属性:\\n',c_t.graph)\n",
    "    \n",
    "#     自定义图\n",
    "    new_g=tf.Graph()\n",
    "#     在自己的图中定义数据和操作\n",
    "    with new_g.as_default():\n",
    "        a_new=tf.constant(20)\n",
    "        b_new=tf.constant(30)\n",
    "        c_new=a_new+b_new\n",
    "        print('c_new:\\n',c_new)\n",
    "        print('a_new的图属性:\\n',a_new.graph)\n",
    "        print('c_new的图属性:\\n',c_new.graph)\n",
    "        #     方法2：查看属性\n",
    "        print('a_new的图属性:\\n',a_new.graph)\n",
    "        print('c_new的图属性:\\n',c_new.graph)\n",
    "    \n",
    "#     开启会话\n",
    "    with tf.compat.v1.Session() as sess:\n",
    "        c_t_value=sess.run(c_t)\n",
    "#         试图运行自定义图中的数据、操作\n",
    "#         c_new_value=sess.run(_new)\n",
    "#         print('c_new_value:\\n',c_new_value)\n",
    "        print('c_t_value:\\n',c_t_value)\n",
    "        print('sess的图属性:\\n',sess.graph)\n",
    "#         1、将图写入本地生成events文件\n",
    "        tf.summary.create_file_writer('/机器学习/深度学习/summary')\n",
    "    \n",
    "            \n",
    "#     开启new_g的会话 \n",
    "    with tf.compat.v1.Session(graph=new_g) as new_sess:\n",
    "        c_new_value=new_sess.run(c_new)\n",
    "        print('c_new_value:\\n',c_new_value)\n",
    "        print('new_sess的图属性:\\n',new_sess.graph)\n",
    "        tf.summary.create_file_writer('F:/机器学习/深度学习/summary')\n",
    "    \n",
    "    \n",
    "    return None"
   ]
  },
  {
   "cell_type": "code",
   "execution_count": 108,
   "metadata": {},
   "outputs": [
    {
     "name": "stdout",
     "output_type": "stream",
     "text": [
      "a_t:\n",
      " Tensor(\"a_t_36:0\", shape=(), dtype=int32)\n",
      "b_t:\n",
      " Tensor(\"b_t_36:0\", shape=(), dtype=int32)\n",
      "c_t:\n",
      " Tensor(\"c_t_36:0\", shape=(), dtype=int32)\n",
      "a_t的图属性:\n",
      " <tensorflow.python.framework.ops.Graph object at 0x0000021FBD50AEE0>\n",
      "c_t的图属性:\n",
      " <tensorflow.python.framework.ops.Graph object at 0x0000021FBD50AEE0>\n",
      "c_new:\n",
      " Tensor(\"add:0\", shape=(), dtype=int32)\n",
      "a_new的图属性:\n",
      " <tensorflow.python.framework.ops.Graph object at 0x0000021FC7942C70>\n",
      "c_new的图属性:\n",
      " <tensorflow.python.framework.ops.Graph object at 0x0000021FC7942C70>\n",
      "a_new的图属性:\n",
      " <tensorflow.python.framework.ops.Graph object at 0x0000021FC7942C70>\n",
      "c_new的图属性:\n",
      " <tensorflow.python.framework.ops.Graph object at 0x0000021FC7942C70>\n",
      "c_t_value:\n",
      " 5\n",
      "sess的图属性:\n",
      " <tensorflow.python.framework.ops.Graph object at 0x0000021FBD50AEE0>\n",
      "c_new_value:\n",
      " 50\n",
      "new_sess的图属性:\n",
      " <tensorflow.python.framework.ops.Graph object at 0x0000021FC7942C70>\n"
     ]
    }
   ],
   "source": [
    "if __name__=='__main__':\n",
    "#     tensorflow_demo()\n",
    "    graph_demo()"
   ]
  },
  {
   "cell_type": "code",
   "execution_count": null,
   "metadata": {},
   "outputs": [],
   "source": []
  }
 ],
 "metadata": {
  "kernelspec": {
   "display_name": "Python 3",
   "language": "python",
   "name": "python3"
  },
  "language_info": {
   "codemirror_mode": {
    "name": "ipython",
    "version": 3
   },
   "file_extension": ".py",
   "mimetype": "text/x-python",
   "name": "python",
   "nbconvert_exporter": "python",
   "pygments_lexer": "ipython3",
   "version": "3.8.3"
  }
 },
 "nbformat": 4,
 "nbformat_minor": 4
}
