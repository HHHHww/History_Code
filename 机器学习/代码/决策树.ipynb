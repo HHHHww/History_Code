{
 "cells": [
  {
   "cell_type": "code",
   "execution_count": 9,
   "metadata": {},
   "outputs": [],
   "source": [
    "from sklearn.datasets import load_iris\n",
    "from sklearn.model_selection import train_test_split\n",
    "from sklearn.tree import DecisionTreeClassifier,export_graphviz\n",
    "\n",
    "\n",
    "\n",
    "\n",
    "def decison_iris():\n",
    "    '''\n",
    "    用决策树对鸢尾花进行分类\n",
    "    '''\n",
    "#     1、获取数据集\n",
    "    iris=load_iris()\n",
    "\n",
    "#     2、划分数据集\n",
    "    x_train,x_test,y_train,y_test=train_test_split(iris.data,iris.target,random_state=22)\n",
    "    \n",
    "\n",
    "#     3、使用决策树预估器\n",
    "    estimator=DecisionTreeClassifier(criterion='entropy')\n",
    "    estimator.fit(x_train,y_train)\n",
    "\n",
    "#     4、模型评估\n",
    "    #     方法1：直接对比真实值和预估值\n",
    "    y_predict=estimator.predict(x_test)\n",
    "\n",
    "    print('y_predict:\\n',y_predict)\n",
    "    print('直接对比真实值和预估值:\\n',y_test==y_predict)\n",
    "    #     方法2：计算准确率\n",
    "    score=estimator.score(x_test,y_test)\n",
    "    print('准确率为：\\n',score)\n",
    "    \n",
    "    \n",
    "#     可视化决策树\n",
    "    export_graphviz(estimator,out_file='F:/机器学习/代码/iris_tree.dot',feature_names=iris.feature_names)\n",
    "    return None"
   ]
  },
  {
   "cell_type": "code",
   "execution_count": 10,
   "metadata": {},
   "outputs": [
    {
     "name": "stdout",
     "output_type": "stream",
     "text": [
      "y_predict:\n",
      " [0 2 1 2 1 1 1 1 1 0 2 1 2 2 0 2 1 1 1 1 0 2 0 1 2 0 1 2 2 1 0 0 1 1 1 0 0\n",
      " 0]\n",
      "直接对比真实值和预估值:\n",
      " [ True  True  True  True  True  True  True False  True  True  True  True\n",
      "  True  True  True  True  True  True False  True  True  True  True  True\n",
      "  True  True False  True  True False  True  True  True  True  True  True\n",
      "  True  True]\n",
      "准确率为：\n",
      " 0.8947368421052632\n"
     ]
    }
   ],
   "source": [
    "if __name__=='__main__':\n",
    "    decison_iris()"
   ]
  },
  {
   "cell_type": "code",
   "execution_count": null,
   "metadata": {},
   "outputs": [],
   "source": []
  }
 ],
 "metadata": {
  "kernelspec": {
   "display_name": "Python 3",
   "language": "python",
   "name": "python3"
  },
  "language_info": {
   "codemirror_mode": {
    "name": "ipython",
    "version": 3
   },
   "file_extension": ".py",
   "mimetype": "text/x-python",
   "name": "python",
   "nbconvert_exporter": "python",
   "pygments_lexer": "ipython3",
   "version": "3.6.5"
  }
 },
 "nbformat": 4,
 "nbformat_minor": 4
}
