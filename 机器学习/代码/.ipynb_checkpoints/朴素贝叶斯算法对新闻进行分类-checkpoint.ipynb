{
 "cells": [
  {
   "cell_type": "code",
   "execution_count": null,
   "metadata": {},
   "outputs": [],
   "source": [
    "from sklearn.datasets import fetch_20newsgroups\n",
    "from sklearn.model_selection import train_test_split\n",
    "from sklearn.feature_extraction.text import TfidfVectorizer\n",
    "from sklearn.naive_bayes import MultinomialNB\n",
    "\n",
    "\n",
    "def nb_news():\n",
    "    '''\n",
    "    朴素贝叶斯算法对新闻进行分类\n",
    "    '''\n",
    "#     1、获取数据\n",
    "    news=fetch_20newsgroups(subset='all')\n",
    "#     2、划分数据集\n",
    "    x_train,x_test,y_train,y_test=train_test_split(news.data,news.target)\n",
    "#     3、特征工程：文本特征抽取-tfidf\n",
    "    transfer=TfidfVectorizer()\n",
    "    x_train=transfer.fit_transform(x_train)\n",
    "    x_test=transfer.fit_transform(x_test)\n",
    "\n",
    "#     4、朴素贝叶斯算法预估器流程\n",
    "    estimator=MultinomialNB()\n",
    "    estimator.fit(x_train,y_train)\n",
    "    \n",
    "\n",
    "#     5、模型评估\n",
    "    #     方法1：直接对比真实值和预估值\n",
    "    y_predict=estimator.predict(x_test)\n",
    "\n",
    "    print('y_predict:\\n',y_predict)\n",
    "    print('直接对比真实值和预估值:\\n',y_test==y_predict)\n",
    "    #     方法2：计算准确率\n",
    "    score=estimator.score(x_test,y_test)\n",
    "    print('准确率为：\\n',score)\n",
    "   \n",
    "\n",
    "\n",
    "\n",
    "\n",
    "    return None"
   ]
  },
  {
   "cell_type": "code",
   "execution_count": null,
   "metadata": {},
   "outputs": [],
   "source": [
    "if __name__=='__main__':\n",
    "    nb_news()"
   ]
  },
  {
   "cell_type": "code",
   "execution_count": null,
   "metadata": {},
   "outputs": [],
   "source": []
  }
 ],
 "metadata": {
  "kernelspec": {
   "display_name": "Python 3",
   "language": "python",
   "name": "python3"
  },
  "language_info": {
   "codemirror_mode": {
    "name": "ipython",
    "version": 3
   },
   "file_extension": ".py",
   "mimetype": "text/x-python",
   "name": "python",
   "nbconvert_exporter": "python",
   "pygments_lexer": "ipython3",
   "version": "3.8.3"
  }
 },
 "nbformat": 4,
 "nbformat_minor": 4
}
